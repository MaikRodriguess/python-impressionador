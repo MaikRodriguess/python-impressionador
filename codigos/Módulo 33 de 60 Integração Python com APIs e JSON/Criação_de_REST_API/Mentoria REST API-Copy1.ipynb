{
 "cells": [
  {
   "cell_type": "markdown",
   "id": "0baaa13b",
   "metadata": {},
   "source": [
    "### Consumir dados de uma API"
   ]
  },
  {
   "cell_type": "code",
   "execution_count": 13,
   "id": "dbdd6973",
   "metadata": {},
   "outputs": [],
   "source": [
    "import requests \n",
    "\n",
    "link =  \"https://7f6be50f-79e5-428f-8b7a-3521291b64c0-00-pv3jh0l8hfd8.riker.replit.dev/mentoria\"\n",
    "\n",
    "requisicao = requests.get(link)\n",
    "\n"
   ]
  },
  {
   "cell_type": "code",
   "execution_count": 14,
   "id": "f60e4ba9",
   "metadata": {},
   "outputs": [
    {
     "name": "stdout",
     "output_type": "stream",
     "text": [
      "{'aluno': 'Maik Rodrigues', 'professor': 'Lira', 'turma': 'Python impressionador'}\n"
     ]
    }
   ],
   "source": [
    "print(requisicao.json())"
   ]
  },
  {
   "cell_type": "markdown",
   "id": "fb303b0c",
   "metadata": {},
   "source": [
    "### Criar uma API com Flask"
   ]
  },
  {
   "cell_type": "code",
   "execution_count": null,
   "id": "13f8e5d1",
   "metadata": {},
   "outputs": [
    {
     "name": "stdout",
     "output_type": "stream",
     "text": [
      " * Serving Flask app \"__main__\" (lazy loading)\n",
      " * Environment: production\n",
      "\u001b[31m   WARNING: This is a development server. Do not use it in a production deployment.\u001b[0m\n",
      "\u001b[2m   Use a production WSGI server instead.\u001b[0m\n",
      " * Debug mode: off\n"
     ]
    },
    {
     "name": "stderr",
     "output_type": "stream",
     "text": [
      " * Running on all addresses.\n",
      "   WARNING: This is a development server. Do not use it in a production deployment.\n",
      " * Running on http://127.0.0.1:5000/ (Press CTRL+C to quit)\n",
      "127.0.0.1 - - [06/Oct/2024 10:47:24] \"GET / HTTP/1.1\" 200 -\n",
      "127.0.0.1 - - [06/Oct/2024 10:48:09] \"GET /vendas/produtos HTTP/1.1\" 200 -\n",
      "127.0.0.1 - - [06/Oct/2024 10:48:26] \"GET /vendas/produtos/Bermuda%20Listrado HTTP/1.1\" 200 -\n"
     ]
    }
   ],
   "source": [
    "import pandas as pd\n",
    "from flask import Flask\n",
    "\n",
    "app = Flask(__name__)\n",
    "tabela = pd.read_excel(\"Vendas - Dez.xlsx\")\n",
    "\n",
    "@app.route(\"/\") #decoretor \n",
    "def fat(): # função\n",
    "\tfaturamento = float(tabela[\"Valor Final\"].sum())\n",
    "\treturn {\"faturamento\": faturamento}\n",
    "\n",
    "@app.route(\"/vendas/produtos\")  # decorador \n",
    "def vendas_produtos(): \n",
    "    tabela_vendas_produtos = tabela[[\"Produto\", \"Valor Final\"]].groupby(\"Produto\").sum()\n",
    "    dic_vendas_produtos = tabela_vendas_produtos.to_dict(orient='index')  # Especificando o formato\n",
    "    return dic_vendas_produtos\n",
    "\n",
    "@app.route(\"/vendas/produtos/<produto>\") \n",
    "def fat_produtos(produto): \n",
    "    tabela_vendas_produtos = tabela[[\"Produto\", \"Valor Final\"]].groupby(\"Produto\").sum()\n",
    "    dic_vendas_produtos = tabela_vendas_produtos.to_dict(orient='index')\n",
    "    if produto in tabela_vendas_produtos.index:\n",
    "        vendas_produto = tabela_vendas_produtos.loc[produto]\n",
    "        dic_vendas_produtos = vendas_produto.to_dict() \n",
    "        return  dic_vendas_produtos\n",
    "    else:\n",
    "        return {\"produto\": \"Inexistente\"}\n",
    "    \n",
    "app.run(host=\"0.0.0.0\") # Colora o site no "
   ]
  },
  {
   "cell_type": "code",
   "execution_count": 25,
   "id": "599c86ac",
   "metadata": {},
   "outputs": [
    {
     "data": {
      "text/html": [
       "<div>\n",
       "<style scoped>\n",
       "    .dataframe tbody tr th:only-of-type {\n",
       "        vertical-align: middle;\n",
       "    }\n",
       "\n",
       "    .dataframe tbody tr th {\n",
       "        vertical-align: top;\n",
       "    }\n",
       "\n",
       "    .dataframe thead th {\n",
       "        text-align: right;\n",
       "    }\n",
       "</style>\n",
       "<table border=\"1\" class=\"dataframe\">\n",
       "  <thead>\n",
       "    <tr style=\"text-align: right;\">\n",
       "      <th></th>\n",
       "      <th>Valor Final</th>\n",
       "    </tr>\n",
       "    <tr>\n",
       "      <th>Produto</th>\n",
       "      <th></th>\n",
       "    </tr>\n",
       "  </thead>\n",
       "  <tbody>\n",
       "    <tr>\n",
       "      <th>Bermuda</th>\n",
       "      <td>59</td>\n",
       "    </tr>\n",
       "    <tr>\n",
       "      <th>Bermuda Estampa</th>\n",
       "      <td>49</td>\n",
       "    </tr>\n",
       "    <tr>\n",
       "      <th>Bermuda Linho</th>\n",
       "      <td>61</td>\n",
       "    </tr>\n",
       "    <tr>\n",
       "      <th>Bermuda Liso</th>\n",
       "      <td>44</td>\n",
       "    </tr>\n",
       "    <tr>\n",
       "      <th>Bermuda Listrado</th>\n",
       "      <td>55</td>\n",
       "    </tr>\n",
       "    <tr>\n",
       "      <th>...</th>\n",
       "      <td>...</td>\n",
       "    </tr>\n",
       "    <tr>\n",
       "      <th>Tênis Estampa</th>\n",
       "      <td>56</td>\n",
       "    </tr>\n",
       "    <tr>\n",
       "      <th>Tênis Linho</th>\n",
       "      <td>58</td>\n",
       "    </tr>\n",
       "    <tr>\n",
       "      <th>Tênis Liso</th>\n",
       "      <td>60</td>\n",
       "    </tr>\n",
       "    <tr>\n",
       "      <th>Tênis Listrado</th>\n",
       "      <td>49</td>\n",
       "    </tr>\n",
       "    <tr>\n",
       "      <th>Tênis Xadrez</th>\n",
       "      <td>54</td>\n",
       "    </tr>\n",
       "  </tbody>\n",
       "</table>\n",
       "<p>120 rows × 1 columns</p>\n",
       "</div>"
      ],
      "text/plain": [
       "                  Valor Final\n",
       "Produto                      \n",
       "Bermuda                    59\n",
       "Bermuda Estampa            49\n",
       "Bermuda Linho              61\n",
       "Bermuda Liso               44\n",
       "Bermuda Listrado           55\n",
       "...                       ...\n",
       "Tênis Estampa              56\n",
       "Tênis Linho                58\n",
       "Tênis Liso                 60\n",
       "Tênis Listrado             49\n",
       "Tênis Xadrez               54\n",
       "\n",
       "[120 rows x 1 columns]"
      ]
     },
     "execution_count": 25,
     "metadata": {},
     "output_type": "execute_result"
    }
   ],
   "source": [
    "import pandas as pd \n",
    "\n",
    "tabela = pd.read_excel(\"Vendas - Dez.xlsx\")\n",
    "teste = tabela[[\"Produto\", \"Valor Final\"]].groupby(\"Produto\").count()\n",
    "teste"
   ]
  },
  {
   "cell_type": "code",
   "execution_count": null,
   "id": "71f7f184",
   "metadata": {},
   "outputs": [],
   "source": []
  }
 ],
 "metadata": {
  "kernelspec": {
   "display_name": "Python 3 (ipykernel)",
   "language": "python",
   "name": "python3"
  },
  "language_info": {
   "codemirror_mode": {
    "name": "ipython",
    "version": 3
   },
   "file_extension": ".py",
   "mimetype": "text/x-python",
   "name": "python",
   "nbconvert_exporter": "python",
   "pygments_lexer": "ipython3",
   "version": "3.9.13"
  }
 },
 "nbformat": 4,
 "nbformat_minor": 5
}
