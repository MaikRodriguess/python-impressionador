{
 "cells": [
  {
   "cell_type": "code",
   "execution_count": 3,
   "id": "ff076d51",
   "metadata": {},
   "outputs": [
    {
     "name": "stdout",
     "output_type": "stream",
     "text": [
      "{'valor_total': ['374.17'], 'cnpj_vendeu': ['36882195000279'], 'nome_vendeu': ['BROTA COMPANY COMERCIO DE PLANTAS LTDA'], 'cpf_comprou': ['10000000000'], 'nome_comprou': ['Lira da Hashtag'], 'Lista_produtos': [[('b.box led', '389.00'), ('Tomilho Serpilho', '10.00'), ('Oregano Bravo-Europeu', '10.00'), ('Manjericao Italiano', '10.00'), ('Coentro Portugues', '10.00'), ('Salsa Hortense', '10.00'), ('Alface Baby-Leaf', '10.00')]]}\n",
      "\n",
      "\n",
      "{'valor_total': ['849.00'], 'cnpj_vendeu': ['60409075055054'], 'nome_vendeu': ['NESTLE BRASIL LTDA'], 'cpf_comprou': ['11122233344'], 'nome_comprou': ['Lira da Hashtag'], 'Lista_produtos': [[('ESSENZA Mini C30 Metal 110V', '534.82'), ('NOMAD Travel Mug Festve Medium', '104.35'), ('Pack YEP 2021 50 Caps OL', '130.00')]]}\n",
      "\n",
      "\n",
      "{'valor_total': ['4500'], 'cnpj_vendeu': ['30000000000101'], 'nome_vendeu': ['LIRA BOLADO NO XML'], 'cpf_comprou': ['26344392000108'], 'nome_comprou': ['HASHTAG TREINAMENTOS LTDA'], 'Lista_produtos': ['Nota referente aos serviços realizados no mês de Novembro de 2021.']}\n"
     ]
    }
   ],
   "source": [
    "import xmltodict\n",
    "\n",
    "# Abrir e ler arquivo\n",
    "def ler_xml_danfe(nota):\n",
    "    with open(nota, 'rb') as arquivo:\n",
    "        documento = xmltodict.parse(arquivo)\n",
    "\n",
    "    dic_notafiscal = documento['nfeProc']['NFe']['infNFe']\n",
    "\n",
    "    valor_total = dic_notafiscal['total']['ICMSTot']['vNF']\n",
    "    cnpj_vendeu = dic_notafiscal['emit']['CNPJ']\n",
    "    nome_vendeu = dic_notafiscal['emit']['xNome']\n",
    "    cpf_comprou = dic_notafiscal['dest']['CPF']\n",
    "    nome_comprou = dic_notafiscal['dest']['xNome']\n",
    "    produtos = dic_notafiscal['det']\n",
    "    lista_produtos = []\n",
    "    for produto in produtos:\n",
    "        nome_produto = produto['prod']['xProd']\n",
    "        valor_produto = produto['prod']['vProd']\n",
    "        lista_produtos.append((nome_produto, valor_produto))\n",
    "\n",
    "    resposta = {'valor_total': [valor_total],\n",
    "                'cnpj_vendeu': [cnpj_vendeu],\n",
    "                'nome_vendeu': [nome_vendeu],\n",
    "                'cpf_comprou': [cpf_comprou],\n",
    "                'nome_comprou': [nome_comprou],\n",
    "                'Lista_produtos': [lista_produtos]\n",
    "                }\n",
    "    return resposta\n",
    "\n",
    "def ler_xml_servico(nota):\n",
    "    with open(nota, 'rb') as arquivo:\n",
    "        documento = xmltodict.parse(arquivo)\n",
    "\n",
    "    dic_notafiscal = documento['ConsultarNfseResposta']['ListaNfse']['CompNfse']['Nfse']['InfNfse']\n",
    "\n",
    "    valor_total = dic_notafiscal['Servico']['Valores']['ValorServicos']\n",
    "    cnpj_vendeu = dic_notafiscal['PrestadorServico']['IdentificacaoPrestador']['Cnpj']\n",
    "    nome_vendeu = dic_notafiscal['PrestadorServico']['RazaoSocial']\n",
    "    cpf_comprou = dic_notafiscal['TomadorServico']['IdentificacaoTomador']['CpfCnpj']['Cnpj']\n",
    "    nome_comprou = dic_notafiscal['TomadorServico']['RazaoSocial']\n",
    "    produtos = dic_notafiscal['Servico']['Discriminacao']\n",
    "\n",
    "    resposta = {'valor_total': [valor_total],\n",
    "                'cnpj_vendeu': [cnpj_vendeu],\n",
    "                'nome_vendeu': [nome_vendeu],\n",
    "                'cpf_comprou': [cpf_comprou],\n",
    "                'nome_comprou': [nome_comprou],\n",
    "                'Lista_produtos': [produtos]\n",
    "                }\n",
    "    return resposta\n",
    "\n",
    "import os\n",
    "\n",
    "lista_arquivos = os.listdir('NFs Finais') # Lista os nomes de arquivos de uma pasta\n",
    "\n",
    "for arquivo in lista_arquivos: # Para cada arquivo\n",
    "    if 'xml' in arquivo: # Se tem xml no nome do arquivo\n",
    "        if 'DANFE' in arquivo: # Se tem DANFE no nome do arquivo\n",
    "            print(ler_xml_danfe(f'NFs Finais/{arquivo}')) # rodar o leitor de XML de DANFE para esse arquivo\n",
    "            print('\\n')\n",
    "        else:\n",
    "            print(ler_xml_servico(f'NFs Finais/{arquivo}'))\n",
    "\n",
    "# import pandas as pd\n",
    "# # tabela = pd.DataFrame.from_dict(resposta)\n",
    "# # tabela.to_excel('NFs.xlsx')\n"
   ]
  },
  {
   "cell_type": "code",
   "execution_count": null,
   "id": "e7334fa9",
   "metadata": {},
   "outputs": [],
   "source": []
  }
 ],
 "metadata": {
  "kernelspec": {
   "display_name": "Python 3 (ipykernel)",
   "language": "python",
   "name": "python3"
  },
  "language_info": {
   "codemirror_mode": {
    "name": "ipython",
    "version": 3
   },
   "file_extension": ".py",
   "mimetype": "text/x-python",
   "name": "python",
   "nbconvert_exporter": "python",
   "pygments_lexer": "ipython3",
   "version": "3.9.13"
  }
 },
 "nbformat": 4,
 "nbformat_minor": 5
}
