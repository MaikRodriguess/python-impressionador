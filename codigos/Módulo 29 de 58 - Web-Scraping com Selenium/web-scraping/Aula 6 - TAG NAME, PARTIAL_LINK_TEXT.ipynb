{
 "cells": [
  {
   "cell_type": "code",
   "execution_count": null,
   "id": "69b1fc12",
   "metadata": {},
   "outputs": [],
   "source": [
    "from selenium import webdriver \n",
    "from selenium.webdriver.chrome.service import Service\n",
    "from webdriver_manager.chrome import ChromeDriverManager\n",
    "\n",
    "servico = Service(ChromeDriverManager().install())\n",
    "navegador = webdriver.Chrome(service=servico)"
   ]
  },
  {
   "cell_type": "code",
   "execution_count": null,
   "id": "677d7add",
   "metadata": {},
   "outputs": [],
   "source": [
    "import os \n",
    "\n",
    "caminho = os.getcwd()\n",
    "arquivo = caminho + r\"\\Pagina Hashtag.html\"\n",
    "navegador.get(arquivo)"
   ]
  },
  {
   "cell_type": "code",
   "execution_count": null,
   "id": "74351c24",
   "metadata": {},
   "outputs": [],
   "source": [
    "# TAG_NAME\n",
    "from selenium.webdriver.common.by import By\n",
    "\n",
    "navegador.find_element(By.TAG_NAME, 'h2').text"
   ]
  },
  {
   "cell_type": "code",
   "execution_count": null,
   "id": "e1207abe",
   "metadata": {},
   "outputs": [],
   "source": [
    "# Parte de um link\n",
    "numero_whatsapp = navegador.find_element(By.PARTIAL_LINK_TEXT, 'WhatsApp').text\n",
    "print(numero_whatsapp)"
   ]
  },
  {
   "cell_type": "code",
   "execution_count": null,
   "id": "758930ed",
   "metadata": {},
   "outputs": [],
   "source": []
  }
 ],
 "metadata": {
  "kernelspec": {
   "display_name": "Python 3 (ipykernel)",
   "language": "python",
   "name": "python3"
  },
  "language_info": {
   "codemirror_mode": {
    "name": "ipython",
    "version": 3
   },
   "file_extension": ".py",
   "mimetype": "text/x-python",
   "name": "python",
   "nbconvert_exporter": "python",
   "pygments_lexer": "ipython3",
   "version": "3.9.13"
  }
 },
 "nbformat": 4,
 "nbformat_minor": 5
}
