{
 "cells": [
  {
   "cell_type": "code",
   "execution_count": 1,
   "id": "e09b9f72",
   "metadata": {},
   "outputs": [],
   "source": [
    "from selenium import webdriver \n",
    "from selenium.webdriver.chrome.service import Service\n",
    "from webdriver_manager.chrome import ChromeDriverManager\n",
    "\n",
    "servico = Service(ChromeDriverManager().install())\n",
    "navegador = webdriver.Chrome(service=servico)"
   ]
  },
  {
   "cell_type": "code",
   "execution_count": 2,
   "id": "ab01e997",
   "metadata": {},
   "outputs": [],
   "source": [
    "# navegador.get(\"https://mais.cpb.com.br/?post_type=meditacao&p=63142\")\n"
   ]
  },
  {
   "cell_type": "code",
   "execution_count": 4,
   "id": "6b6fd418",
   "metadata": {},
   "outputs": [],
   "source": [
    "navegador.get(r\"C:\\Users\\Maik\\Documents\\GitHub\\python-impressionador\\codigos\\Módulo 29 de 58 Integração Python - Automação Web (Web-Scraping com Selenium)\\Pagina Hashtag.html\")"
   ]
  },
  {
   "cell_type": "code",
   "execution_count": null,
   "id": "7fe38b2b",
   "metadata": {},
   "outputs": [],
   "source": []
  }
 ],
 "metadata": {
  "kernelspec": {
   "display_name": "Python 3 (ipykernel)",
   "language": "python",
   "name": "python3"
  },
  "language_info": {
   "codemirror_mode": {
    "name": "ipython",
    "version": 3
   },
   "file_extension": ".py",
   "mimetype": "text/x-python",
   "name": "python",
   "nbconvert_exporter": "python",
   "pygments_lexer": "ipython3",
   "version": "3.9.13"
  }
 },
 "nbformat": 4,
 "nbformat_minor": 5
}
