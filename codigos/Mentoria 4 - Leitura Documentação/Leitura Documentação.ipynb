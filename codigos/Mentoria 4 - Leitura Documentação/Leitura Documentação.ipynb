{
 "cells": [
  {
   "cell_type": "markdown",
   "id": "de58cd45",
   "metadata": {},
   "source": [
    "#### Bibliotecas"
   ]
  },
  {
   "cell_type": "code",
   "execution_count": 1,
   "id": "2d75a849",
   "metadata": {},
   "outputs": [
    {
     "data": {
      "text/plain": [
       "'53'"
      ]
     },
     "execution_count": 1,
     "metadata": {},
     "output_type": "execute_result"
    }
   ],
   "source": [
    "# pandas \n",
    "import pandas as pd\n",
    "df = pd.DataFrame(\n",
    "{\n",
    "    \"Nome\":[\"Maik\", \"Maiana\", \"Dionisio\",\"Genivalda\"],\n",
    "    \"Idade\":[\"29\", \"26\",\"53\",\"51\"]\n",
    "})\n",
    "\n",
    "df[\"Idade\"].max()"
   ]
  },
  {
   "cell_type": "code",
   "execution_count": 2,
   "id": "5dd52663",
   "metadata": {},
   "outputs": [],
   "source": [
    "# requests\n"
   ]
  },
  {
   "cell_type": "markdown",
   "id": "5636220b",
   "metadata": {},
   "source": [
    "#### Funções Específicas"
   ]
  },
  {
   "cell_type": "code",
   "execution_count": 3,
   "id": "53dbf246",
   "metadata": {},
   "outputs": [],
   "source": [
    "# datas no pandas"
   ]
  },
  {
   "cell_type": "code",
   "execution_count": 21,
   "id": "ddd2cd08",
   "metadata": {},
   "outputs": [
    {
     "name": "stdout",
     "output_type": "stream",
     "text": [
      "Cliente                     object\n",
      "Data Pagamento      datetime64[ns]\n",
      "Data Pagamento 2    datetime64[ns]\n",
      "dtype: object\n"
     ]
    },
    {
     "data": {
      "text/html": [
       "<div>\n",
       "<style scoped>\n",
       "    .dataframe tbody tr th:only-of-type {\n",
       "        vertical-align: middle;\n",
       "    }\n",
       "\n",
       "    .dataframe tbody tr th {\n",
       "        vertical-align: top;\n",
       "    }\n",
       "\n",
       "    .dataframe thead th {\n",
       "        text-align: right;\n",
       "    }\n",
       "</style>\n",
       "<table border=\"1\" class=\"dataframe\">\n",
       "  <thead>\n",
       "    <tr style=\"text-align: right;\">\n",
       "      <th></th>\n",
       "      <th>Cliente</th>\n",
       "      <th>Data Pagamento</th>\n",
       "      <th>Data Pagamento 2</th>\n",
       "    </tr>\n",
       "  </thead>\n",
       "  <tbody>\n",
       "    <tr>\n",
       "      <th>0</th>\n",
       "      <td>Fulano</td>\n",
       "      <td>2022-09-22</td>\n",
       "      <td>2022-09-22</td>\n",
       "    </tr>\n",
       "    <tr>\n",
       "      <th>1</th>\n",
       "      <td>Beltrano</td>\n",
       "      <td>2022-04-17</td>\n",
       "      <td>2022-04-17</td>\n",
       "    </tr>\n",
       "    <tr>\n",
       "      <th>2</th>\n",
       "      <td>Ciclano</td>\n",
       "      <td>2022-02-21</td>\n",
       "      <td>2022-02-21</td>\n",
       "    </tr>\n",
       "    <tr>\n",
       "      <th>3</th>\n",
       "      <td>Lira</td>\n",
       "      <td>2022-12-27</td>\n",
       "      <td>2022-12-27</td>\n",
       "    </tr>\n",
       "    <tr>\n",
       "      <th>4</th>\n",
       "      <td>Julia</td>\n",
       "      <td>2022-02-01</td>\n",
       "      <td>2022-02-01</td>\n",
       "    </tr>\n",
       "    <tr>\n",
       "      <th>5</th>\n",
       "      <td>Marcus</td>\n",
       "      <td>2022-07-08</td>\n",
       "      <td>2022-07-08</td>\n",
       "    </tr>\n",
       "    <tr>\n",
       "      <th>6</th>\n",
       "      <td>Amanda</td>\n",
       "      <td>2022-09-28</td>\n",
       "      <td>2022-09-28</td>\n",
       "    </tr>\n",
       "    <tr>\n",
       "      <th>7</th>\n",
       "      <td>Larissa</td>\n",
       "      <td>2022-05-28</td>\n",
       "      <td>2022-05-28</td>\n",
       "    </tr>\n",
       "    <tr>\n",
       "      <th>8</th>\n",
       "      <td>Alon</td>\n",
       "      <td>2022-10-06</td>\n",
       "      <td>2022-10-06</td>\n",
       "    </tr>\n",
       "  </tbody>\n",
       "</table>\n",
       "</div>"
      ],
      "text/plain": [
       "    Cliente Data Pagamento Data Pagamento 2\n",
       "0    Fulano     2022-09-22       2022-09-22\n",
       "1  Beltrano     2022-04-17       2022-04-17\n",
       "2   Ciclano     2022-02-21       2022-02-21\n",
       "3      Lira     2022-12-27       2022-12-27\n",
       "4     Julia     2022-02-01       2022-02-01\n",
       "5    Marcus     2022-07-08       2022-07-08\n",
       "6    Amanda     2022-09-28       2022-09-28\n",
       "7   Larissa     2022-05-28       2022-05-28\n",
       "8      Alon     2022-10-06       2022-10-06"
      ]
     },
     "metadata": {},
     "output_type": "display_data"
    }
   ],
   "source": [
    "# funcao datetime\n",
    "import pandas as pd\n",
    "\n",
    "tabela = pd.read_excel(\"Contratos.xlsx\")\n",
    "tabela[\"Data Pagamento\"] = pd.to_datetime(tabela[\"Data Pagamento\"], format= '%d/%m/%Y')\n",
    "tabela[\"Data Pagamento 2\"] = pd.to_datetime(tabela[\"Data Pagamento 2\"], format= '%m-%d-%y')\n",
    "print(tabela.dtypes)\n",
    "display(tabela)\n",
    "\n"
   ]
  },
  {
   "cell_type": "code",
   "execution_count": 5,
   "id": "25f4909e",
   "metadata": {},
   "outputs": [],
   "source": [
    "# funcao merge do pandas"
   ]
  },
  {
   "cell_type": "markdown",
   "id": "57bdedb1",
   "metadata": {},
   "source": [
    "#### APIs"
   ]
  },
  {
   "cell_type": "code",
   "execution_count": 6,
   "id": "4c1970b5",
   "metadata": {},
   "outputs": [],
   "source": [
    "# documentação de APIs cada uma é diferente da outra, \n",
    "# vejam o módulo de API que eu faço vários exemplos lá\n",
    "\n",
    "# exemplo sandbox https://dadosabertos.bcb.gov.br/dataset/dinheiro-em-circulao\n",
    "\n",
    "# exemplo documentação: https://www.alphavantage.co/"
   ]
  }
 ],
 "metadata": {
  "kernelspec": {
   "display_name": "Python 3 (ipykernel)",
   "language": "python",
   "name": "python3"
  },
  "language_info": {
   "codemirror_mode": {
    "name": "ipython",
    "version": 3
   },
   "file_extension": ".py",
   "mimetype": "text/x-python",
   "name": "python",
   "nbconvert_exporter": "python",
   "pygments_lexer": "ipython3",
   "version": "3.9.13"
  }
 },
 "nbformat": 4,
 "nbformat_minor": 5
}
