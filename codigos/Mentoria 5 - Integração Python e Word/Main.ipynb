{
 "cells": [
  {
   "cell_type": "code",
   "execution_count": null,
   "id": "88bed601",
   "metadata": {},
   "outputs": [],
   "source": [
    "# pip install python-docx"
   ]
  },
  {
   "cell_type": "code",
   "execution_count": null,
   "id": "57d324a8",
   "metadata": {},
   "outputs": [],
   "source": [
    "from docx import Document\n",
    "\n",
    "# Criando documento no python \n",
    "documento = Document()\n",
    "\n",
    "faturamento = 1000\n",
    "\n",
    "texto = \"\"\" Fala Maik,\n",
    "O faturamento da empresa ontem foi de R${:,.2f}\n",
    "\n",
    "tamo junto, abs. \n",
    "\n",
    "\"\"\".format(faturamento) \n",
    "\n",
    "# Adiciona texto ao documento \n",
    "paragrafo = documento.add_paragraph(texto)\n",
    "\n"
   ]
  },
  {
   "cell_type": "markdown",
   "id": "85a57b43",
   "metadata": {},
   "source": [
    "### Formatação"
   ]
  },
  {
   "cell_type": "code",
   "execution_count": null,
   "id": "22e4bcd4",
   "metadata": {},
   "outputs": [],
   "source": [
    "from docx.shared import Pt, RGBColor, Cm # Valores de formatação\n",
    "from docx.enum.style import WD_STYLE_TYPE\n",
    "\n",
    "paragrafo.style = documento.styles.add_style(\"Estilomaik\", WD_STYLE_TYPE.PARAGRAPH)\n",
    "paragrafo.style.font.name = \"Comic Sans MS\"\n",
    "paragrafo.style.font.size = Pt(15)\n",
    "paragrafo.style.font.bold = True \n",
    "paragrafo.style.font.italic = True\n",
    "paragrafo.style.font.underline = True \n",
    "paragrafo.style.font.color.rgb = RGBColor(255, 0, 0)"
   ]
  },
  {
   "cell_type": "code",
   "execution_count": null,
   "id": "27fade49",
   "metadata": {},
   "outputs": [],
   "source": [
    "# Adiciona texto ao documento\n",
    "paragrafo = documento.add_paragraph(\"A quantidade de produtos vendidos foi 10\", \"Estilomaik\")"
   ]
  },
  {
   "cell_type": "code",
   "execution_count": null,
   "id": "663e9a0b",
   "metadata": {},
   "outputs": [],
   "source": [
    "# Grava as informações no texto.docx\n",
    "\n",
    "documento.save(\"texto.docx\")"
   ]
  },
  {
   "cell_type": "markdown",
   "id": "dfd22c60",
   "metadata": {},
   "source": [
    "### Aproveitando um template do word"
   ]
  },
  {
   "cell_type": "code",
   "execution_count": null,
   "id": "0fdfb920",
   "metadata": {},
   "outputs": [],
   "source": [
    "# Templete que será usado como base  \n",
    "template = Document('template.docx')"
   ]
  },
  {
   "cell_type": "code",
   "execution_count": null,
   "id": "73a6cad7",
   "metadata": {},
   "outputs": [],
   "source": [
    "# Verifica se o estilo do template foi criado (nome: MeuEstilo )\n",
    "for estilo in template.styles:\n",
    "    print(estilo)"
   ]
  },
  {
   "cell_type": "code",
   "execution_count": null,
   "id": "53f3008c",
   "metadata": {},
   "outputs": [],
   "source": [
    "# Cria arquivo e aplica o template\n",
    "paragrafo = template.add_paragraph(\"Contrado de prestação de serviços\",\"MeuEstilo\")\n",
    "template.save(\"NovoArquivo.docx\")"
   ]
  },
  {
   "cell_type": "markdown",
   "id": "f09be173",
   "metadata": {},
   "source": [
    "### Adicionar texto com edição dentro do texto"
   ]
  },
  {
   "cell_type": "code",
   "execution_count": null,
   "id": "7d6bc0eb",
   "metadata": {},
   "outputs": [],
   "source": [
    "from docx import Document \n",
    "\n",
    "# Criando o documento no python \n",
    "documento = Document()\n",
    "\n",
    "faturamento = 2000 \n",
    "\n",
    "# Textos \n",
    "\n",
    "texto_inicial = \"\"\" Fala Maik,\n",
    "\n",
    "O faturamento da empresa ontem foi de \"\"\"\n",
    "\n",
    "texto_final = \"\"\"Tamo junto, abs \"\"\"\n",
    "\n",
    "# Adicionando textos na ordem com a adição\n",
    "\n",
    "paragrafo = documento.add_paragraph(texto_inicial) # Texto inicial \n",
    "faturamento = paragrafo.add_run(f\"R$ {faturamento:,.2f}\") # Texto com a edição única\n",
    "faturamento.italic = True # Texto em italico\n",
    "faturamento.bold = True # Texto em Negrito\n",
    "faturamento.underline = True # Texto em sublinhado\n",
    "paragrafo = documento.add_paragraph(texto_final) # Texto final\n",
    "documento.save(\"Texto.docx\")\n"
   ]
  },
  {
   "cell_type": "markdown",
   "id": "3d133d6a",
   "metadata": {},
   "source": [
    "### Inserir imagem"
   ]
  },
  {
   "cell_type": "code",
   "execution_count": null,
   "id": "55bb26b6",
   "metadata": {},
   "outputs": [],
   "source": [
    "\n",
    "from docx import Document\n",
    "\n",
    "# Criando documento no python \n",
    "documento = Document()\n",
    "\n",
    "faturamento = 1000\n",
    "\n",
    "texto = f\"\"\" Fala Maik,\n",
    "O faturamento da empresa ontem foi de R${faturamento:,.2f}\n",
    "\n",
    "tamo junto, abs. \n",
    "\n",
    "\"\"\"\n",
    "\n",
    "# Adiciona texto ao documento \n",
    "paragrafo = documento.add_paragraph(texto)\n",
    "\n",
    "documento.add_picture(\"cacto.jpg\",width=Cm(4),height=Cm(4))\n",
    "\n",
    "documento.save(\"Texto.docx\")"
   ]
  },
  {
   "cell_type": "markdown",
   "id": "84bb7974",
   "metadata": {},
   "source": [
    "### inserir tabela"
   ]
  },
  {
   "cell_type": "code",
   "execution_count": null,
   "id": "50cb9ffe",
   "metadata": {},
   "outputs": [],
   "source": [
    "documento = Document()\n",
    "\n",
    "records = (\n",
    "    (3, '101', 'Spam'),\n",
    "    (7, '422', 'Eggs'),\n",
    "    (4, '631', 'Spam, spam, eggs, and spam')\n",
    ")\n",
    "\n",
    "table = documento.add_table(rows=1, cols=3, style=\"Light Grid Accent 1\")\n",
    "hdr_cells = table.rows[0].cells\n",
    "hdr_cells[0].text = 'Qty'\n",
    "hdr_cells[1].text = 'Id'\n",
    "hdr_cells[2].text = 'Desc'\n",
    "for qty, id, desc in records:\n",
    "    row_cells = table.add_row().cells\n",
    "    row_cells[0].text = str(qty)\n",
    "    row_cells[1].text = id\n",
    "    row_cells[2].text = desc\n",
    "    \n",
    "documento.save(\"Texto.docx\")"
   ]
  },
  {
   "cell_type": "markdown",
   "id": "cc09fd5a",
   "metadata": {},
   "source": [
    "### Para verificar todos os estilos de um arquivo"
   ]
  },
  {
   "cell_type": "code",
   "execution_count": null,
   "id": "8088d71a",
   "metadata": {},
   "outputs": [],
   "source": [
    "for estilo in documento.styles:\n",
    "    print(estilo)"
   ]
  },
  {
   "cell_type": "markdown",
   "id": "270b2b3e",
   "metadata": {},
   "source": [
    "### Adaptar um documento"
   ]
  },
  {
   "cell_type": "code",
   "execution_count": null,
   "id": "496c0099",
   "metadata": {},
   "outputs": [],
   "source": [
    " "
   ]
  }
 ],
 "metadata": {
  "kernelspec": {
   "display_name": "Python 3 (ipykernel)",
   "language": "python",
   "name": "python3"
  },
  "language_info": {
   "codemirror_mode": {
    "name": "ipython",
    "version": 3
   },
   "file_extension": ".py",
   "mimetype": "text/x-python",
   "name": "python",
   "nbconvert_exporter": "python",
   "pygments_lexer": "ipython3",
   "version": "3.9.13"
  }
 },
 "nbformat": 4,
 "nbformat_minor": 5
}
