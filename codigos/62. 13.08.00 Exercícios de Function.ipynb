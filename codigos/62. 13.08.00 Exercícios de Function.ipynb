{
 "cells": [
  {
   "cell_type": "markdown",
   "metadata": {},
   "source": [
    "# Exercícios\n",
    "\n",
    "### Antes de irmos para o desafio que apresentamos na última aula (que é bem mais complexo do que um exemplo simples) vamos resolver um exercício um pouco mais simples para treinar\n",
    "\n",
    "## 1. Cálculo do Percentual e da Lista de Vendedores\n",
    "\n",
    "- Queremos criar uma function que consiga identificar os vendedores que bateram uma meta, mas além disso, consigo já me dar como resposta o cálculo do % da lista de vendedores que bateu a meta (para eu não precisar calcular manualmente depois)\n",
    "- Essa function deve receber 2 informações como parâmetro: a meta e um dicionário com os vendedores e suas vendas. E me dar 2 respostas: uma lista com o nome dos vendedores que bateram a meta e o % de vendedores que bateu a meta."
   ]
  },
  {
   "cell_type": "code",
   "execution_count": 2,
   "metadata": {},
   "outputs": [],
   "source": [
    "meta = 10000\n",
    "vendas = {\n",
    "    'João': 15000,\n",
    "    'Julia': 27000,\n",
    "    'Marcus': 9900,\n",
    "    'Maria': 3750,\n",
    "    'Ana': 10300,\n",
    "    'Alon': 7870,\n",
    "}"
   ]
  },
  {
   "cell_type": "code",
   "execution_count": 16,
   "metadata": {},
   "outputs": [],
   "source": [
    "#crie sua function aqui\n",
    "def bateram_meta(meta, dicio_vendas):\n",
    "    bateram_meta = []\n",
    "    percentual_meta = 0\n",
    "    for chave in dicio_vendas:\n",
    "        if dicio_vendas[chave] > meta: # Verifica se o valor da venda é mais que a meta\n",
    "            bateram_meta.append(chave) # Vendedores que bateram a meta\n",
    "    percentual_meta = len(bateram_meta) / len(dicio_vendas) # Percentual de vendedores que bateram a meta\n",
    "    \n",
    "    return bateram_meta, percentual_meta"
   ]
  },
  {
   "cell_type": "code",
   "execution_count": 21,
   "metadata": {},
   "outputs": [
    {
     "name": "stdout",
     "output_type": "stream",
     "text": [
      "50.00% dos vendedores bateram a meta. São eles: \n",
      "['João', 'Julia', 'Ana']\n"
     ]
    }
   ],
   "source": [
    "#aplique sua function nas informações para ver se está funcionando\n",
    "vendedores_acima_meta, perc_meta = bateram_meta(meta, vendas)\n",
    "print('{:.2%} dos vendedores bateram a meta. São eles: \\n{}'.format(perc_meta, vendedores_acima_meta))\n"
   ]
  },
  {
   "cell_type": "code",
   "execution_count": null,
   "metadata": {},
   "outputs": [],
   "source": []
  }
 ],
 "metadata": {
  "kernelspec": {
   "display_name": "Python 3 (ipykernel)",
   "language": "python",
   "name": "python3"
  },
  "language_info": {
   "codemirror_mode": {
    "name": "ipython",
    "version": 3
   },
   "file_extension": ".py",
   "mimetype": "text/x-python",
   "name": "python",
   "nbconvert_exporter": "python",
   "pygments_lexer": "ipython3",
   "version": "3.9.13"
  }
 },
 "nbformat": 4,
 "nbformat_minor": 4
}
