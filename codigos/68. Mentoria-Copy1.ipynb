{
 "cells": [
  {
   "cell_type": "markdown",
   "id": "a2fee89b",
   "metadata": {},
   "source": [
    "### Forma de pensar"
   ]
  },
  {
   "cell_type": "code",
   "execution_count": null,
   "id": "1be9db7d",
   "metadata": {},
   "outputs": [],
   "source": [
    "# coisas simples: atravessar a rua (mostrar os diferentes níveis de abstração que dá para fazer)\n",
    "\n",
    "\n",
    "# tomar café da manhã (mostrar os diferentes níveis de abstração que dá para fazer)\n",
    "\n",
    "\n",
    "# Shampoo (pegar um shampoo aqui de casa e ler)"
   ]
  },
  {
   "cell_type": "markdown",
   "id": "672e10e0",
   "metadata": {},
   "source": [
    "### Exemplo de Exercício do Curso"
   ]
  },
  {
   "cell_type": "markdown",
   "id": "fee80189",
   "metadata": {},
   "source": [
    "#### 23. Faça um Programa para uma loja de tintas. O programa deverá pedir o tamanho em metros quadrados da área a ser pintada. Considere que a cobertura da tinta é de 1 litro para cada 6 metros quadrados e que a tinta é vendida em latas de 18 litros, que custam R\\\\$ 80,00 ou em galões de 3,6 litros, que custam R\\\\$ 25,00."
   ]
  },
  {
   "cell_type": "code",
   "execution_count": 5,
   "id": "4499bb83",
   "metadata": {},
   "outputs": [
    {
     "name": "stdout",
     "output_type": "stream",
     "text": [
      "Qual a área a ser pintada (m²): 250\n",
      "Quantidade de latas:  3\n",
      "Preço:  240\n"
     ]
    }
   ],
   "source": []
  },
  {
   "cell_type": "markdown",
   "id": "0d5fa10a",
   "metadata": {},
   "source": [
    "##### Informe ao usuário as quantidades de tinta a serem compradas e os respectivos preços em 3 situações.\n",
    "\n",
    "Dica: lembre dos operadores // e % mostrados em exercícios anteriores<br>\n",
    "Dica1: numero // 10 vai te dar como resposta a parte inteira da divisão do número por 10.<br>\n",
    "Dica2: numero % 10 vai te dar o resto da divisão do número por 10.\n",
    "\n",
    "##### 1. Comprar apenas latas de 18 litros: (apenas latas inteiras)"
   ]
  },
  {
   "cell_type": "code",
   "execution_count": 6,
   "id": "bc38cdcd",
   "metadata": {},
   "outputs": [
    {
     "name": "stdout",
     "output_type": "stream",
     "text": [
      "Qual a área a ser pintada (m²): 250\n",
      "Quantidade de latas:  3\n",
      "Preço:  240\n"
     ]
    }
   ],
   "source": [
    "# Calcular quantas latas e quanto custa comprar a tinta \n",
    "    # descobrir a area a ser pintada \n",
    "area = int(input('Qual a área a ser pintada (m²): '))\n",
    "    # calcular quantos litros de tinta o cliente precisa (area / 6)\n",
    "litros = area / 6 \n",
    "    # quantas latas vou precisar para quantidade de litros \n",
    "        # Calcular quantas latas (litros / 18)\n",
    "latas = litros / 18 \n",
    "        # Arredondar esse número para cima\n",
    "if int(latas) != latas:\n",
    "    latas = int(latas) + 1\n",
    "    # Calcular o preço das latas (quantidade de latas * R$80)\n",
    "preco = latas * 80\n",
    "print('Quantidade de latas: ', latas)\n",
    "print('Preço: ', preco)"
   ]
  },
  {
   "cell_type": "markdown",
   "id": "15dc7322",
   "metadata": {},
   "source": [
    "##### 2. Comprar apenas galões de 3,6 litros: (apenas galoes inteiros)"
   ]
  },
  {
   "cell_type": "code",
   "execution_count": 11,
   "id": "6e0a01af",
   "metadata": {},
   "outputs": [
    {
     "name": "stdout",
     "output_type": "stream",
     "text": [
      "Qual a área a ser pintada (m²): 250\n",
      "Quantidade de galções:  12\n",
      "Preço:  300\n"
     ]
    }
   ],
   "source": [
    "# Calcular quantas latas e quanto custa comprar a tinta \n",
    "    # descobrir a area a ser pintada \n",
    "area = int(input('Qual a área a ser pintada (m²): '))\n",
    "    # calcular quantos litros de tinta o cliente precisa (area / 6)\n",
    "litros = area / 6 \n",
    "    # quantas latas vou precisar para quantidade de litros \n",
    "        # Calcular quantas galões (litros / 3.6)\n",
    "galoes = litros / 3.6 \n",
    "        # Arredondar esse número para cima\n",
    "if galoes % 3.6 > 0:\n",
    "    galoes = int(galoes) + 1\n",
    "    # Calcular o preço das galões (quantidade de galões * R$80)\n",
    "preco = galoes * 25\n",
    "print('Quantidade de galções: ', galoes)\n",
    "print('Preço: ', preco)"
   ]
  },
  {
   "cell_type": "markdown",
   "id": "35e0aa11",
   "metadata": {},
   "source": [
    "##### 3. Misturar latas e galões, de forma que o desperdício de tinta seja menor. Sempre arredonde os valores para cima, isto é, considere latas cheias."
   ]
  },
  {
   "cell_type": "markdown",
   "id": "95a3d342",
   "metadata": {},
   "source": [
    "O custo da lata é 80/18 = 4,44 R\\\\$/L\n",
    "\n",
    "O custo do galão é 25/3,6 = 6,94 R\\\\$/L\n",
    "\n",
    "A lata é mais econômica, então todas as latas inteiras que pudermos usar devemos comprar em latas. Se ficar faltando alguma coisa para completar devemos avaliar se é melhor comprar latas ou galões. Exemplo:\n",
    "\n",
    "Se queremos comprar 90 litros. 5 latas dão exatamente 90 litros. Então devemos comprar tudo em latas.\n",
    "\n",
    "Se queremos comprar 95 litros. 5 latas dão exatamente 90 litros. Então devemos comprar pelo menos 5 latas e avaliar o que falta, se estes últimos 5 litros valem mais apenas em latas ou galões.\n",
    "\n",
    "Para os 5 litros faltantes precisamos de 2 galões que custam 50 reais no total. Ou de uma lata que custa 80 reais no total. Portanto, neste caso vale mais a pena usar 2 galões.\n",
    "\n",
    "Se queremos comprar 107 litros. 5 latas dão exatamente 90 litros. Então devemos comprar pelo menos 5 latas e avaliar o que falta, se estes últimos 5 litros valem mais apenas em latas ou galões.\n",
    "\n",
    "Para os 17 litros faltantes precisamos de 5 galões que custam 125 reais no total. Ou de uma lata que custa 80 reais no total. Portanto, neste caso vale mais a pena usar uma lata.\n",
    "\n",
    "3 galões custam 75 reais, 4 galões custam 100 reais. Então, se for possível completar com até 3 galões escolhe-se galões. Qualquer quantidade maior que 3 galões, usa-se latas.\n",
    "\n",
    "Podemos ir ao exercício:"
   ]
  },
  {
   "cell_type": "code",
   "execution_count": 19,
   "id": "0e9847d9",
   "metadata": {},
   "outputs": [
    {
     "name": "stdout",
     "output_type": "stream",
     "text": [
      "Qual é a área a ser pintada?250\n",
      "Latas:  2\n",
      "Galões:  2\n",
      "Preço final:  210\n"
     ]
    }
   ],
   "source": [
    "# Calcular o menor preco possível de latas e galões para pintar uma parede \n",
    "    # Descobrir a area a ser pintada (Pegar um input do usuario)\n",
    "latas = 0\n",
    "galoes = 0\n",
    "area = int(input('Qual é a área a ser pintada?'))\n",
    "    # calcular quantos litros vamos precisar (area / 6)\n",
    "litros = area / 6\n",
    "    # calcular quantas latas e galoes vamos precisar\n",
    "        # calcular quantas latas inteiras vamos precisar\n",
    "latas = int(litros / 18)\n",
    "        # calcular quantos vai sobrar de litros de tinta\n",
    "litros_falta = litros % 18 \n",
    "        # se sobrar tinta:\n",
    "            # quantos galoes vamos precisar para essa sobra\n",
    "if litros_falta > 0:\n",
    "    if litros_falta % 3.6 > 0:\n",
    "        galoes = int(litros_falta / 3.6) + 1\n",
    "    else: \n",
    "        galoes = litros_falta / 3.6\n",
    "            \n",
    "    # Calcular o preço \n",
    "        # qtd_latas_inteiras * 80 \n",
    "preco_latas = latas * 80 \n",
    "        # se a qtd_galoes * 25 > 80:\n",
    "precos_galoes = galoes * 25 \n",
    "if precos_galoes > 80:\n",
    "    latas += 1 \n",
    "    preco_latas = latas * 80  \n",
    "    galoes = 0 \n",
    "    precos_galoes = 0\n",
    "            # preço anterior + 80\n",
    "        # caso contrario \n",
    "           # preço anterior + qtde_galoes * 25\n",
    "preco_final = preco_latas + precos_galoes\n",
    "print('Latas: ', latas)\n",
    "print('Galões: ',galoes)\n",
    "print('Preço final: ',preco_final)\n",
    "    "
   ]
  },
  {
   "cell_type": "code",
   "execution_count": 18,
   "id": "c51c27c5",
   "metadata": {},
   "outputs": [],
   "source": [
    "# Enviar um relatório com as vendas do dia anterior para o meu chefe as 9h da manhã \n",
    "    # pegar uma base de dados com as vendas do dia anterior \n",
    "        \n",
    "    # calcular as vendas do dia anterior \n",
    "    # enviar um emmail para o meu chefe"
   ]
  },
  {
   "cell_type": "code",
   "execution_count": null,
   "id": "84ba7e53",
   "metadata": {},
   "outputs": [],
   "source": []
  }
 ],
 "metadata": {
  "kernelspec": {
   "display_name": "Python 3 (ipykernel)",
   "language": "python",
   "name": "python3"
  },
  "language_info": {
   "codemirror_mode": {
    "name": "ipython",
    "version": 3
   },
   "file_extension": ".py",
   "mimetype": "text/x-python",
   "name": "python",
   "nbconvert_exporter": "python",
   "pygments_lexer": "ipython3",
   "version": "3.9.13"
  }
 },
 "nbformat": 4,
 "nbformat_minor": 5
}
